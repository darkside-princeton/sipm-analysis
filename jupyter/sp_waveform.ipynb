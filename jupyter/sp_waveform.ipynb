{
 "cells": [
  {
   "cell_type": "code",
   "execution_count": 1,
   "metadata": {},
   "outputs": [],
   "source": [
    "import numpy as np\n",
    "import matplotlib.pyplot as plt\n",
    "import pandas as pd\n",
    "import glob"
   ]
  },
  {
   "cell_type": "code",
   "execution_count": 2,
   "metadata": {},
   "outputs": [],
   "source": [
    "plt.style.use('darkside')\n",
    "colors = plt.rcParams['axes.prop_cycle'].by_key()['color']"
   ]
  },
  {
   "cell_type": "code",
   "execution_count": 3,
   "metadata": {},
   "outputs": [
    {
     "name": "stdout",
     "output_type": "stream",
     "text": [
      "/home/nwoofter/sipm-analysis\n"
     ]
    }
   ],
   "source": [
    "!pwd\n"
   ]
  },
  {
   "cell_type": "code",
   "execution_count": 10,
   "metadata": {},
   "outputs": [
    {
     "data": {
      "text/plain": [
       "[]"
      ]
     },
     "execution_count": 10,
     "metadata": {},
     "output_type": "execute_result"
    }
   ],
   "source": [
    "data_dir = '/scratch/gpfs/nwoofter/results/2023-06-07/*/'\n",
    "glob.glob(data_dir)"
   ]
  },
  {
   "attachments": {},
   "cell_type": "markdown",
   "metadata": {},
   "source": [
    "# Load pre-processed h5 files\n",
    "These files should be processed by `exe/laser_pulse.py` script."
   ]
  },
  {
   "cell_type": "code",
   "execution_count": 28,
   "metadata": {},
   "outputs": [
    {
     "name": "stdout",
     "output_type": "stream",
     "text": [
      "['/scratch/gpfs/nwoofter/results/2023-06-07/2023-06-07_volt_90_light_laser_cond_ln_intensity_1020_config_1_intensity_1020_run0_wf.h5']\n",
      "      n_spe_wfs  avg_spe_wf    time\n",
      "0       14785.0   -0.495727   0.000\n",
      "1           NaN    0.517259   0.004\n",
      "2           NaN   -0.505737   0.008\n",
      "3           NaN    0.543232   0.012\n",
      "4           NaN   -0.491871   0.016\n",
      "...         ...         ...     ...\n",
      "3995        NaN    0.595447  15.980\n",
      "3996        NaN   -0.513718  15.984\n",
      "3997        NaN    0.516651  15.988\n",
      "3998        NaN   -0.475301  15.992\n",
      "3999        NaN    0.580432  15.996\n",
      "\n",
      "[4000 rows x 3 columns]\n",
      "['/scratch/gpfs/nwoofter/results/2023-06-07/2023-06-07_volt_90_light_laser_cond_ln_intensity_1020_config_1_intensity_1020_run0_wf.h5']\n",
      "      n_spe_wfs  avg_spe_wf    time\n",
      "0       16752.0   -0.442428   0.000\n",
      "1           NaN    0.336822   0.004\n",
      "2           NaN   -0.568323   0.008\n",
      "3           NaN    0.435199   0.012\n",
      "4           NaN   -0.397359   0.016\n",
      "...         ...         ...     ...\n",
      "3995        NaN    0.476328  15.980\n",
      "3996        NaN   -0.390135  15.984\n",
      "3997        NaN    0.409888  15.988\n",
      "3998        NaN   -0.467499  15.992\n",
      "3999        NaN    0.482119  15.996\n",
      "\n",
      "[4000 rows x 3 columns]\n",
      "['/scratch/gpfs/nwoofter/results/2023-06-07/2023-06-07_volt_90_light_laser_cond_ln_intensity_1020_config_1_intensity_1020_run0_wf.h5']\n",
      "      n_spe_wfs  avg_spe_wf    time\n",
      "0       16491.0   -0.098613   0.000\n",
      "1           NaN    0.168745   0.004\n",
      "2           NaN   -0.141970   0.008\n",
      "3           NaN    0.153646   0.012\n",
      "4           NaN   -0.107103   0.016\n",
      "...         ...         ...     ...\n",
      "3995        NaN    0.158679  15.980\n",
      "3996        NaN   -0.099947  15.984\n",
      "3997        NaN    0.177113  15.988\n",
      "3998        NaN   -0.129054  15.992\n",
      "3999        NaN    0.162074  15.996\n",
      "\n",
      "[4000 rows x 3 columns]\n",
      "keys:  ['n_spe_wfs', 'avg_spe_wf', 'time']\n"
     ]
    }
   ],
   "source": [
    "# data folder\n",
    "path = \"/scratch/gpfs/nwoofter/results/2023-06-07/\"\n",
    "data = {}\n",
    "intensity = [1020]\n",
    "channels = [0, 1, 2]\n",
    "for intn in intensity:\n",
    "    data[intn] = {}\n",
    "    for ch in channels:\n",
    "        data[intn][ch] = {'n_spe_wfs':0, 'avg_spe_wf':np.zeros(0), 'time':np.zeros(0)}\n",
    "        files = glob.glob(f\"{path}/*intensity_{intn}*_wf.h5\")\n",
    "        print(files)\n",
    "        for f in files:\n",
    "            df = pd.read_hdf(f, key=f'{volt}/{ch}')\n",
    "            print(df)\n",
    "            data[intn][ch]['n_spe_wfs'] += np.array(df['n_spe_wfs'])[0]\n",
    "            if data[intn][ch]['time'].shape[0]==0:\n",
    "                data[intn][ch]['time'] = np.array(df['time'])\n",
    "            if data[intn][ch]['avg_spe_wf'].shape[0]==0:\n",
    "                data[intn][ch]['avg_spe_wf'] = np.array(df['avg_spe_wf'])*np.array(df['n_spe_wfs'])[0]\n",
    "            else:\n",
    "                data[intn][ch]['avg_spe_wf'] += np.array(df['avg_spe_wf'])*np.array(df['n_spe_wfs'])[0]\n",
    "            df = None\n",
    "            data[intn][ch]['avg_spe_wf'] /= data[intn][ch]['n_spe_wfs']\n",
    "print('keys: ', list(data[1020][0].keys()))"
   ]
  },
  {
   "cell_type": "code",
   "execution_count": 37,
   "metadata": {},
   "outputs": [
    {
     "data": {
      "text/plain": [
       "{'n_spe_wfs': 14785.0,\n",
       " 'avg_spe_wf': array([-0.49572665,  0.51725948, -0.5057368 , ...,  0.51665076,\n",
       "        -0.47530054,  0.58043162]),\n",
       " 'time': array([0.0000e+00, 4.0000e-03, 8.0000e-03, ..., 1.5988e+01, 1.5992e+01,\n",
       "        1.5996e+01])}"
      ]
     },
     "execution_count": 37,
     "metadata": {},
     "output_type": "execute_result"
    }
   ],
   "source": [
    "intn = 1020\n",
    "ch = 0\n",
    "volt = 90\n",
    "data[intn][ch]"
   ]
  },
  {
   "cell_type": "code",
   "execution_count": 40,
   "metadata": {},
   "outputs": [
    {
     "data": {
      "image/png": "[encoded data removed]",
      "text/plain": [
       "<Figure size 800x600 with 1 Axes>"
      ]
     },
     "metadata": {},
     "output_type": "display_data"
    }
   ],
   "source": [
    "intn = 1020\n",
    "ch = 0\n",
    "\n",
    "plt.plot(data[intn][ch]['time'], data[intn][ch]['avg_spe_wf'], linewidth = '1')\n",
    "plt.minorticks_on()\n",
    "plt.grid()"
   ]
  }
 ],
 "metadata": {
  "kernelspec": {
   "display_name": "sipm",
   "language": "python",
   "name": "sipm"
  }
 },
 "nbformat": 4,
 "nbformat_minor": 2
}

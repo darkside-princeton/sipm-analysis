{
 "cells": [
  {
   "cell_type": "code",
   "execution_count": 7,
   "metadata": {},
   "outputs": [],
   "source": [
    "import numpy as np\n",
    "import matplotlib.pyplot as plt\n",
    "from scipy.optimize import curve_fit\n",
    "import sipm.util.functions as func\n",
    "import pandas as pd\n",
    "import glob\n",
    "import scipy\n",
    "from scipy.interpolate import interp1d\n",
    "import csv\n",
    "import os\n",
    "from sipm.analysis.SipmCalibration import SipmCalibration\n",
    "import yaml\n",
    "from sipm.analysis.AdvancedAnalyzer import AdvancedAnalyzer\n",
    "from typing import Dict, List\n"
   ]
  },
  {
   "cell_type": "code",
   "execution_count": 8,
   "metadata": {},
   "outputs": [],
   "source": [
    "plt.style.use('darkside')\n",
    "colors = plt.rcParams['axes.prop_cycle'].by_key()['color']"
   ]
  },
  {
   "cell_type": "code",
   "execution_count": 9,
   "metadata": {},
   "outputs": [
    {
     "name": "stdout",
     "output_type": "stream",
     "text": [
      "/home/nwoofter/sipm-analysis\n"
     ]
    }
   ],
   "source": [
    "!pwd"
   ]
  },
  {
   "cell_type": "code",
   "execution_count": 22,
   "metadata": {},
   "outputs": [
    {
     "ename": "TypeError",
     "evalue": "put() missing 1 required positional argument: 'value'",
     "output_type": "error",
     "traceback": [
      "\u001b[0;31m---------------------------------------------------------------------------\u001b[0m",
      "\u001b[0;31mTypeError\u001b[0m                                 Traceback (most recent call last)",
      "Cell \u001b[0;32mIn[22], line 14\u001b[0m\n\u001b[1;32m     12\u001b[0m columns \u001b[39m=\u001b[39m [\u001b[39m'\u001b[39m\u001b[39mchannel\u001b[39m\u001b[39m'\u001b[39m, \u001b[39m'\u001b[39m\u001b[39mA1min\u001b[39m\u001b[39m'\u001b[39m, \u001b[39m'\u001b[39m\u001b[39mA1max\u001b[39m\u001b[39m'\u001b[39m, \u001b[39m'\u001b[39m\u001b[39mbsl_rms\u001b[39m\u001b[39m'\u001b[39m]\n\u001b[1;32m     13\u001b[0m store \u001b[39m=\u001b[39m pd\u001b[39m.\u001b[39mHDFStore(h5filename)\n\u001b[0;32m---> 14\u001b[0m store\u001b[39m.\u001b[39;49mput(pd\u001b[39m.\u001b[39;49mDataFrame(np\u001b[39m.\u001b[39;49marray([[\n\u001b[1;32m     15\u001b[0m     ch,\n\u001b[1;32m     16\u001b[0m     A1mins[ch],\n\u001b[1;32m     17\u001b[0m     A1maxes[ch],\n\u001b[1;32m     18\u001b[0m     bsl_rms_thre[ch]\n\u001b[1;32m     19\u001b[0m ] \u001b[39mfor\u001b[39;49;00m ch \u001b[39min\u001b[39;49;00m channels]), columns\u001b[39m=\u001b[39;49mcolumns)\u001b[39m.\u001b[39;49mastype({\u001b[39m'\u001b[39;49m\u001b[39mchannel\u001b[39;49m\u001b[39m'\u001b[39;49m:\u001b[39m'\u001b[39;49m\u001b[39mint\u001b[39;49m\u001b[39m'\u001b[39;49m}))\n\u001b[1;32m     20\u001b[0m store\u001b[39m.\u001b[39mclose()\n",
      "\u001b[0;31mTypeError\u001b[0m: put() missing 1 required positional argument: 'value'"
     ]
    }
   ],
   "source": [
    "name = 'calibration_liq4'\n",
    "\"\"\"Save calibration results and selection criteria for other pre-processing scripts as an HDF5 file under 'data/'. The keys are in the format of '/{pos}/{volt}V'.\n",
    "\n",
    "Args:\n",
    "    name (str): HDF5 file name without .h5\n",
    "\"\"\"\n",
    "channels = np.array([0, 1, 2, 3])\n",
    "A1mins = np.array([0, 0, 0, 0])\n",
    "A1maxes = np.array([1000000, 1000000, 1000000, 1000000])\n",
    "bsl_rms_thre = np.array([1000000, 1000000, 1000000, 1000000])\n",
    "h5filename = f'data/{name}.h5'\n",
    "columns = ['channel', 'A1min', 'A1max', 'bsl_rms']\n",
    "store = pd.HDFStore(h5filename)\n",
    "store.put(pd.DataFrame(np.array([[\n",
    "    ch,\n",
    "    A1mins[ch],\n",
    "    A1maxes[ch],\n",
    "    bsl_rms_thre[ch]\n",
    "] for ch in channels]), columns=columns).astype({'channel':'int'}))\n",
    "store.close()"
   ]
  }
 ],
 "metadata": {
  "kernelspec": {
   "display_name": "sipm",
   "language": "python",
   "name": "sipm"
  },
  "language_info": {
   "codemirror_mode": {
    "name": "ipython",
    "version": 3
   },
   "file_extension": ".py",
   "mimetype": "text/x-python",
   "name": "python",
   "nbconvert_exporter": "python",
   "pygments_lexer": "ipython3",
   "version": "3.8.16"
  },
  "orig_nbformat": 4
 },
 "nbformat": 4,
 "nbformat_minor": 2
}

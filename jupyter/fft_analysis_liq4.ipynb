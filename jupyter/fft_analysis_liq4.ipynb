{
 "cells": [
  {
   "cell_type": "code",
   "execution_count": 1,
   "metadata": {},
   "outputs": [],
   "source": [
    "import numpy as np\n",
    "import matplotlib.pyplot as plt\n",
    "from scipy.optimize import curve_fit\n",
    "import sipm.util.functions as func\n",
    "import pandas as pd\n",
    "import glob\n",
    "import scipy\n",
    "from scipy.interpolate import interp1d\n",
    "import csv\n",
    "import os\n",
    "from sipm.analysis.SipmCalibration import SipmCalibration\n",
    "import yaml\n",
    "from sipm.analysis.AdvancedAnalyzer import AdvancedAnalyzer\n",
    "from typing import Dict, List\n"
   ]
  },
  {
   "cell_type": "code",
   "execution_count": 2,
   "metadata": {},
   "outputs": [],
   "source": [
    "plt.style.use('darkside')\n",
    "colors = plt.rcParams['axes.prop_cycle'].by_key()['color']"
   ]
  },
  {
   "cell_type": "code",
   "execution_count": 3,
   "metadata": {},
   "outputs": [
    {
     "name": "stdout",
     "output_type": "stream",
     "text": [
      "/home/nwoofter/sipm-analysis\n"
     ]
    }
   ],
   "source": [
    "!pwd"
   ]
  },
  {
   "cell_type": "code",
   "execution_count": 5,
   "metadata": {},
   "outputs": [
    {
     "name": "stderr",
     "output_type": "stream",
     "text": [
      "/home/nwoofter/ENTER/envs/sipm/lib/python3.8/site-packages/tables/path.py:137: NaturalNameWarning: object name is not a valid Python identifier: '60V'; it does not match the pattern ``^[a-zA-Z_][a-zA-Z0-9_]*$``; you will not be able to use natural naming to access this object; using ``getattr()`` will still work, though\n",
      "  check_attribute_name(name)\n"
     ]
    }
   ],
   "source": [
    "name = 'calibration_liq4'\n",
    "\"\"\"Save calibration results and selection criteria for other pre-processing scripts as an HDF5 file under 'data/'. The keys are in the format of '/{pos}/{volt}V'.\n",
    "\n",
    "Args:\n",
    "    name (str): HDF5 file name without .h5\n",
    "\"\"\"\n",
    "volt = 60\n",
    "channels = np.array([0, 1, 2, 3])\n",
    "A1mins = np.array([0, 0, 0, 0])\n",
    "A1maxes = np.array([1000000, 1000000, 1000000, 1000000])\n",
    "bsl_rms_thre = np.array([1000000, 1000000, 1000000, 1000000])\n",
    "h5filename = f'data/{name}.h5'\n",
    "columns = ['channel', 'A1min', 'A1max', 'bsl_rms']\n",
    "store = pd.HDFStore(h5filename)\n",
    "store.put(f'{volt}V', pd.DataFrame(np.array([[\n",
    "    ch,\n",
    "    A1mins[ch],\n",
    "    A1maxes[ch],\n",
    "    bsl_rms_thre[ch]\n",
    "] for ch in channels]), columns=columns).astype({'channel':'int'}))\n",
    "store.close()"
   ]
  },
  {
   "cell_type": "code",
   "execution_count": 6,
   "metadata": {},
   "outputs": [
    {
     "name": "stdout",
     "output_type": "stream",
     "text": [
      "   channel  A1min    A1max  bsl_rms\n",
      "0        0      0  1000000  1000000\n",
      "1        1      0  1000000  1000000\n",
      "2        2      0  1000000  1000000\n",
      "3        3      0  1000000  1000000\n"
     ]
    }
   ],
   "source": [
    "summary = pd.read_hdf('data/calibration_liq4.h5', key=f'/{volt}V')\n",
    "print(summary)"
   ]
  }
 ],
 "metadata": {
  "kernelspec": {
   "display_name": "sipm",
   "language": "python",
   "name": "sipm"
  },
  "language_info": {
   "codemirror_mode": {
    "name": "ipython",
    "version": 3
   },
   "file_extension": ".py",
   "mimetype": "text/x-python",
   "name": "python",
   "nbconvert_exporter": "python",
   "pygments_lexer": "ipython3",
   "version": "3.8.16"
  },
  "orig_nbformat": 4
 },
 "nbformat": 4,
 "nbformat_minor": 2
}

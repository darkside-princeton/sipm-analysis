{
 "cells": [
  {
   "cell_type": "code",
   "execution_count": 1,
   "metadata": {},
   "outputs": [],
   "source": [
    "import numpy as np\n",
    "import matplotlib.pyplot as plt\n",
    "import pandas as pd\n",
    "import glob"
   ]
  },
  {
   "cell_type": "code",
   "execution_count": 2,
   "metadata": {},
   "outputs": [],
   "source": [
    "plt.style.use('darkside')\n",
    "colors = plt.rcParams['axes.prop_cycle'].by_key()['color']"
   ]
  },
  {
   "cell_type": "code",
   "execution_count": 3,
   "metadata": {},
   "outputs": [
    {
     "name": "stdout",
     "output_type": "stream",
     "text": [
      "/home/nwoofter/sipm-analysis/jupyter\r\n"
     ]
    }
   ],
   "source": [
    "!pwd\n"
   ]
  },
  {
   "cell_type": "markdown",
   "metadata": {},
   "source": [
    "## Example waveforms"
   ]
  },
  {
   "cell_type": "code",
   "execution_count": 4,
   "metadata": {},
   "outputs": [
    {
     "data": {
      "text/plain": [
       "['/scratch/gpfs/GALBIATI/data/sipm/hamamatsu_test/2023-06-07/2023-06-07_volt_90_light_laser_config_1_cond_ln_intensity_1120/',\n",
       " '/scratch/gpfs/GALBIATI/data/sipm/hamamatsu_test/2023-06-07/2023-06-07_volt_60_light_laser_config_1_cond_ln_long_intensity_500/',\n",
       " '/scratch/gpfs/GALBIATI/data/sipm/hamamatsu_test/2023-06-07/2023-06-07_volt_92_light_laser_config_1_cond_ln_intensity_1020/',\n",
       " '/scratch/gpfs/GALBIATI/data/sipm/hamamatsu_test/2023-06-07/2023-06-07_volt_90_light_laser_config_1_cond_ln_intensity_1020/',\n",
       " '/scratch/gpfs/GALBIATI/data/sipm/hamamatsu_test/2023-06-07/2023-06-07_volt_92_light_laser_config_1_cond_ln_intensity_1120/']"
      ]
     },
     "execution_count": 4,
     "metadata": {},
     "output_type": "execute_result"
    }
   ],
   "source": [
    "data_dir = '/scratch/gpfs/GALBIATI/data/sipm/hamamatsu_test/2023-06-07/*/'\n",
    "glob.glob(data_dir)"
   ]
  },
  {
   "cell_type": "code",
   "execution_count": 5,
   "metadata": {},
   "outputs": [
    {
     "ename": "ModuleNotFoundError",
     "evalue": "No module named 'sipm'",
     "output_type": "error",
     "traceback": [
      "\u001b[0;31m---------------------------------------------------------------------------\u001b[0m",
      "\u001b[0;31mModuleNotFoundError\u001b[0m                       Traceback (most recent call last)",
      "Cell \u001b[0;32mIn[5], line 1\u001b[0m\n\u001b[0;32m----> 1\u001b[0m \u001b[38;5;28;01mimport\u001b[39;00m \u001b[38;5;21;01msipm\u001b[39;00m\u001b[38;5;21;01m.\u001b[39;00m\u001b[38;5;21;01mrecon\u001b[39;00m\u001b[38;5;21;01m.\u001b[39;00m\u001b[38;5;21;01mWaveformDataset\u001b[39;00m \u001b[38;5;28;01mas\u001b[39;00m \u001b[38;5;21;01mwfd\u001b[39;00m\n\u001b[1;32m      2\u001b[0m ch \u001b[38;5;241m=\u001b[39m \u001b[38;5;241m0\u001b[39m\n\u001b[1;32m      3\u001b[0m evid \u001b[38;5;241m=\u001b[39m np\u001b[38;5;241m.\u001b[39marange(\u001b[38;5;241m5\u001b[39m, \u001b[38;5;241m10\u001b[39m)\n",
      "\u001b[0;31mModuleNotFoundError\u001b[0m: No module named 'sipm'"
     ]
    }
   ],
   "source": [
    "import sipm.recon.WaveformDataset as wfd\n",
    "ch = 0\n",
    "evid = np.arange(5, 10)\n",
    "dset = wfd.WaveformDataset(path='/scratch/gpfs/GALBIATI/data/sipm/hamamatsu_test/2023-06-07/2023-06-07_volt_90_light_laser_config_1_cond_ln_intensity_1120/', pol=-1, channels=range(4))\n",
    "wfs, arwfs = dset.ch[ch].get_waveforms(ev=evid, ar_filter=True)\n",
    "\n",
    "for i, wf in enumerate(wfs):\n",
    "    plt.figure(i, figsize=(3, 3))\n",
    "    plt.plot(dset.ch[ch].time, wf, label='Unfiltered', linewidth=0.5)\n",
    "    plt.plot(dset.ch[ch].time, arwfs[i]*0.1,\n",
    "             label=r'AR-filtered $\\times0.1$', linewidth=0.5)\n",
    "    plt.legend(loc='upper right')\n",
    "    plt.xlabel(r'Time [$\\mu s$]')\n",
    "    plt.ylabel(r'Voltage [A.U.]')\n",
    "    plt.minorticks_on()\n",
    "    plt.grid()\n",
    "    plt.xlim(0, 16)\n",
    "    plt.ylim(-20, 500)"
   ]
  },
  {
   "cell_type": "markdown",
   "metadata": {},
   "source": [
    "# Load pre-processed h5 files\n",
    "These files should be processed by `exe/laser_pulse.py` script."
   ]
  },
  {
   "cell_type": "code",
   "execution_count": null,
   "metadata": {},
   "outputs": [],
   "source": [
    "# data folder\n",
    "path = \"/scratch/gpfs/nwoofter/results/\"\n",
    "data = {}\n",
    "intensity = [1020, 1120]\n",
    "channels = [0, 1, 2, 3]\n",
    "voltages = [90,92]\n",
    "for intn in intensity:\n",
    "    data[intn] = {}\n",
    "    for ch in channels:\n",
    "        data[intn][ch] = {}\n",
    "        for volt in voltages:\n",
    "            data[intn][ch][volt] = []\n",
    "            files = glob.glob(f\"{path}2023-06-07/*volt_{volt}*intensity_{intn}*[!_wf].h5\")\n",
    "            print(files)\n",
    "            for f in files:\n",
    "                df = pd.read_hdf(f, key=f'{volt}/{ch}')\n",
    "                data[intn][ch][volt].append(df)\n",
    "            data[intn][ch][volt] = pd.concat(\n",
    "                data[intn][ch][volt], ignore_index=True)\n",
    "print('keys: ', list(data[1020][0][90].keys()))"
   ]
  },
  {
   "cell_type": "code",
   "execution_count": 7,
   "metadata": {},
   "outputs": [
    {
     "data": {
      "text/html": [
       "<div>\n",
       "<style scoped>\n",
       "    .dataframe tbody tr th:only-of-type {\n",
       "        vertical-align: middle;\n",
       "    }\n",
       "\n",
       "    .dataframe tbody tr th {\n",
       "        vertical-align: top;\n",
       "    }\n",
       "\n",
       "    .dataframe thead th {\n",
       "        text-align: right;\n",
       "    }\n",
       "</style>\n",
       "<table border=\"1\" class=\"dataframe\">\n",
       "  <thead>\n",
       "    <tr style=\"text-align: right;\">\n",
       "      <th></th>\n",
       "      <th>baseline_mean</th>\n",
       "      <th>baseline_rms</th>\n",
       "      <th>amplitude_trig</th>\n",
       "      <th>peakpos_trig</th>\n",
       "      <th>integral_5p00us</th>\n",
       "    </tr>\n",
       "  </thead>\n",
       "  <tbody>\n",
       "    <tr>\n",
       "      <th>0</th>\n",
       "      <td>3835.932469</td>\n",
       "      <td>1.717480</td>\n",
       "      <td>374.117879</td>\n",
       "      <td>1588</td>\n",
       "      <td>2056.911323</td>\n",
       "    </tr>\n",
       "    <tr>\n",
       "      <th>1</th>\n",
       "      <td>3835.933834</td>\n",
       "      <td>1.715546</td>\n",
       "      <td>366.615285</td>\n",
       "      <td>1587</td>\n",
       "      <td>1405.630286</td>\n",
       "    </tr>\n",
       "    <tr>\n",
       "      <th>2</th>\n",
       "      <td>3835.491132</td>\n",
       "      <td>1.630286</td>\n",
       "      <td>385.495052</td>\n",
       "      <td>1587</td>\n",
       "      <td>1612.826739</td>\n",
       "    </tr>\n",
       "    <tr>\n",
       "      <th>3</th>\n",
       "      <td>3835.366985</td>\n",
       "      <td>1.618987</td>\n",
       "      <td>427.285934</td>\n",
       "      <td>1586</td>\n",
       "      <td>1049.401091</td>\n",
       "    </tr>\n",
       "    <tr>\n",
       "      <th>4</th>\n",
       "      <td>3834.612551</td>\n",
       "      <td>1.785176</td>\n",
       "      <td>746.108748</td>\n",
       "      <td>1589</td>\n",
       "      <td>3761.814461</td>\n",
       "    </tr>\n",
       "    <tr>\n",
       "      <th>...</th>\n",
       "      <td>...</td>\n",
       "      <td>...</td>\n",
       "      <td>...</td>\n",
       "      <td>...</td>\n",
       "      <td>...</td>\n",
       "    </tr>\n",
       "    <tr>\n",
       "      <th>50794</th>\n",
       "      <td>3835.743520</td>\n",
       "      <td>1.668168</td>\n",
       "      <td>367.198541</td>\n",
       "      <td>1589</td>\n",
       "      <td>1194.834925</td>\n",
       "    </tr>\n",
       "    <tr>\n",
       "      <th>50795</th>\n",
       "      <td>3836.272851</td>\n",
       "      <td>1.725908</td>\n",
       "      <td>781.678605</td>\n",
       "      <td>1587</td>\n",
       "      <td>2585.792633</td>\n",
       "    </tr>\n",
       "    <tr>\n",
       "      <th>50796</th>\n",
       "      <td>3836.598909</td>\n",
       "      <td>1.968746</td>\n",
       "      <td>697.647699</td>\n",
       "      <td>1590</td>\n",
       "      <td>3946.624829</td>\n",
       "    </tr>\n",
       "    <tr>\n",
       "      <th>50797</th>\n",
       "      <td>3834.684857</td>\n",
       "      <td>1.612199</td>\n",
       "      <td>375.874031</td>\n",
       "      <td>1587</td>\n",
       "      <td>869.919509</td>\n",
       "    </tr>\n",
       "    <tr>\n",
       "      <th>50798</th>\n",
       "      <td>3835.606412</td>\n",
       "      <td>1.687750</td>\n",
       "      <td>661.966352</td>\n",
       "      <td>1589</td>\n",
       "      <td>1428.079127</td>\n",
       "    </tr>\n",
       "  </tbody>\n",
       "</table>\n",
       "<p>50799 rows × 5 columns</p>\n",
       "</div>"
      ],
      "text/plain": [
       "       baseline_mean  baseline_rms  amplitude_trig  peakpos_trig  \\\n",
       "0        3835.932469      1.717480      374.117879          1588   \n",
       "1        3835.933834      1.715546      366.615285          1587   \n",
       "2        3835.491132      1.630286      385.495052          1587   \n",
       "3        3835.366985      1.618987      427.285934          1586   \n",
       "4        3834.612551      1.785176      746.108748          1589   \n",
       "...              ...           ...             ...           ...   \n",
       "50794    3835.743520      1.668168      367.198541          1589   \n",
       "50795    3836.272851      1.725908      781.678605          1587   \n",
       "50796    3836.598909      1.968746      697.647699          1590   \n",
       "50797    3834.684857      1.612199      375.874031          1587   \n",
       "50798    3835.606412      1.687750      661.966352          1589   \n",
       "\n",
       "       integral_5p00us  \n",
       "0          2056.911323  \n",
       "1          1405.630286  \n",
       "2          1612.826739  \n",
       "3          1049.401091  \n",
       "4          3761.814461  \n",
       "...                ...  \n",
       "50794      1194.834925  \n",
       "50795      2585.792633  \n",
       "50796      3946.624829  \n",
       "50797       869.919509  \n",
       "50798      1428.079127  \n",
       "\n",
       "[50799 rows x 5 columns]"
      ]
     },
     "execution_count": 7,
     "metadata": {},
     "output_type": "execute_result"
    }
   ],
   "source": [
    "intn = 1020\n",
    "ch = 0\n",
    "volt = 90\n",
    "data[intn][ch][volt]"
   ]
  },
  {
   "cell_type": "code",
   "execution_count": 8,
   "metadata": {},
   "outputs": [
    {
     "data": {
      "image/png": "[encoded data removed]",
      "text/plain": [
       "<Figure size 800x600 with 1 Axes>"
      ]
     },
     "metadata": {},
     "output_type": "display_data"
    }
   ],
   "source": [
    "intn = 1020\n",
    "ch = 0\n",
    "volt = 90\n",
    "plt.hist(data[intn][ch][volt]['amplitude_trig'], bins=500, histtype='step')\n",
    "plt.minorticks_on()\n",
    "plt.grid()\n",
    "plt.yscale('log')"
   ]
  },
  {
   "cell_type": "code",
   "execution_count": null,
   "metadata": {},
   "outputs": [],
   "source": []
  }
 ],
 "metadata": {
  "kernelspec": {
   "display_name": "sipm",
   "language": "python",
   "name": "sipm"
  },
  "language_info": {
   "codemirror_mode": {
    "name": "ipython",
    "version": 3
   },
   "file_extension": ".py",
   "mimetype": "text/x-python",
   "name": "python",
   "nbconvert_exporter": "python",
   "pygments_lexer": "ipython3",
   "version": "3.8.16"
  },
  "vscode": {
   "interpreter": {
    "hash": "aee8b7b246df8f9039afb4144a1f6fd8d2ca17a180786b69acc140d282b71a49"
   }
  }
 },
 "nbformat": 4,
 "nbformat_minor": 2
}

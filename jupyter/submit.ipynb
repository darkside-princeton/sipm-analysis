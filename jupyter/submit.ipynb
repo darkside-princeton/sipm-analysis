{
 "cells": [
  {
   "cell_type": "code",
   "execution_count": 1,
   "metadata": {},
   "outputs": [],
   "source": [
    "import glob\n",
    "import sipm.util.submit as submit"
   ]
  },
  {
   "cell_type": "code",
   "execution_count": 2,
   "metadata": {},
   "outputs": [],
   "source": [
    "dirs = glob.glob('/scratch/gpfs/GALBIATI/data/sipm/reflector_studies/2022-11-22/**/*/')"
   ]
  },
  {
   "attachments": {},
   "cell_type": "markdown",
   "metadata": {},
   "source": [
    "## Run default analysis script"
   ]
  },
  {
   "cell_type": "code",
   "execution_count": 4,
   "metadata": {},
   "outputs": [],
   "source": [
    "num_events = 1000000000\n",
    "scheduler = submit.Scheduler(dirs=dirs)\n",
    "scheduler.submit(script=\"sipm/exe/analysis.py\",args=f\"-n {num_events}\")"
   ]
  },
  {
   "attachments": {},
   "cell_type": "markdown",
   "metadata": {},
   "source": [
    "## Run ```laser_pulse.py```"
   ]
  },
  {
   "cell_type": "code",
   "execution_count": 3,
   "metadata": {},
   "outputs": [],
   "source": [
    "num_events = 1000000000\n",
    "scheduler = submit.Scheduler(dirs=dirs)\n",
    "scheduler.submit(script=\"sipm/exe/laser_pulse.py\",args=f\"-n {num_events}\")"
   ]
  },
  {
   "cell_type": "code",
   "execution_count": null,
   "metadata": {},
   "outputs": [],
   "source": []
  }
 ],
 "metadata": {
  "kernelspec": {
   "display_name": "ds-pu",
   "language": "python",
   "name": "ds-pu"
  },
  "language_info": {
   "codemirror_mode": {
    "name": "ipython",
    "version": 3
   },
   "file_extension": ".py",
   "mimetype": "text/x-python",
   "name": "python",
   "nbconvert_exporter": "python",
   "pygments_lexer": "ipython3",
   "version": "3.8.13"
  },
  "orig_nbformat": 4,
  "vscode": {
   "interpreter": {
    "hash": "42113827f4f4f07d6b2b9baac961823db80ea7cf4a724d435c5374398a25473f"
   }
  }
 },
 "nbformat": 4,
 "nbformat_minor": 2
}

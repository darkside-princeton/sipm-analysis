{
 "cells": [
  {
   "cell_type": "code",
   "execution_count": 1,
   "metadata": {},
   "outputs": [],
   "source": [
    "import glob\n",
    "import sipm.util.submit as submit"
   ]
  },
  {
   "attachments": {},
   "cell_type": "markdown",
   "metadata": {},
   "source": [
    "## Run default analysis script"
   ]
  },
  {
   "cell_type": "code",
   "execution_count": 4,
   "metadata": {},
   "outputs": [],
   "source": [
    "dirs = glob.glob('/scratch/gpfs/GALBIATI/data/sipm/reflector_studies/2022-11-22/**/*/')\n",
    "num_events = 1000000000\n",
    "scheduler = submit.Scheduler(dirs=dirs)\n",
    "scheduler.submit(script=\"sipm/exe/analysis.py\",args=f\"-n {num_events}\")"
   ]
  },
  {
   "attachments": {},
   "cell_type": "markdown",
   "metadata": {},
   "source": [
    "## Run ```laser_pulse.py```"
   ]
  },
  {
   "cell_type": "code",
   "execution_count": 3,
   "metadata": {},
   "outputs": [],
   "source": [
    "dirs = glob.glob('/scratch/gpfs/GALBIATI/data/sipm/reflector_studies/2022-11-22/**/*/')\n",
    "num_events = 1000000000\n",
    "scheduler = submit.Scheduler(dirs=dirs)\n",
    "scheduler.submit(script=\"sipm/exe/laser_pulse.py\",args=f\"-n {num_events}\")"
   ]
  },
  {
   "attachments": {},
   "cell_type": "markdown",
   "metadata": {},
   "source": [
    "## Run `scintillation_pulse.py`"
   ]
  },
  {
   "cell_type": "code",
   "execution_count": 2,
   "metadata": {},
   "outputs": [],
   "source": [
    "dirs_scint = glob.glob('/scratch/gpfs/GALBIATI/data/sipm/reflector_studies/2022-11-20/**/*/')\n",
    "num_events = 100000\n",
    "sipm_calib_dir = \"/home/as111/sipm-analysis/data/calibration/\"\n",
    "scheduler = submit.Scheduler(dirs=dirs_scint)\n",
    "scheduler.submit(script=\"sipm/exe/scintillation_pulse.py\",args=f\"-n {num_events} -s {sipm_calib_dir}\")"
   ]
  },
  {
   "cell_type": "code",
   "execution_count": null,
   "metadata": {},
   "outputs": [],
   "source": []
  }
 ],
 "metadata": {
  "kernelspec": {
   "display_name": "ds-pu",
   "language": "python",
   "name": "ds-pu"
  },
  "language_info": {
   "codemirror_mode": {
    "name": "ipython",
    "version": 3
   },
   "file_extension": ".py",
   "mimetype": "text/x-python",
   "name": "python",
   "nbconvert_exporter": "python",
   "pygments_lexer": "ipython3",
   "version": "3.8.13"
  },
  "orig_nbformat": 4,
  "vscode": {
   "interpreter": {
    "hash": "916dbcbb3f70747c44a77c7bcd40155683ae19c65e1c03b4aa3499c5328201f1"
   }
  }
 },
 "nbformat": 4,
 "nbformat_minor": 2
}

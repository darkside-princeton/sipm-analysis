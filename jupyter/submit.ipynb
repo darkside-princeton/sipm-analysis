{
 "cells": [
  {
   "cell_type": "code",
   "execution_count": 1,
   "metadata": {},
   "outputs": [],
   "source": [
    "import numpy as np\n",
    "import glob\n",
    "import matplotlib.pyplot as plt\n",
    "import pandas as pd"
   ]
  },
  {
   "cell_type": "code",
   "execution_count": 2,
   "metadata": {},
   "outputs": [
    {
     "data": {
      "text/plain": [
       "<module 'sipm.io.h5_io' from '/home/aj9512/sipm-analysis/sipm/io/h5_io.py'>"
      ]
     },
     "execution_count": 2,
     "metadata": {},
     "output_type": "execute_result"
    }
   ],
   "source": [
    "import sipm.util.submit as submit\n",
    "import sipm.io.dataset as ds\n",
    "import sipm.io.h5_io as h5_io\n",
    "import importlib\n",
    "importlib.reload(submit)\n",
    "importlib.reload(ds)\n",
    "importlib.reload(h5_io)"
   ]
  },
  {
   "cell_type": "code",
   "execution_count": 3,
   "metadata": {},
   "outputs": [],
   "source": [
    "dirs = sorted(glob.glob('/scratch/gpfs/GALBIATI/data/sipm/reflector_studies/2022-11-22/**/*/'))"
   ]
  },
  {
   "cell_type": "code",
   "execution_count": 4,
   "metadata": {},
   "outputs": [],
   "source": [
    "scheduler = submit.Scheduler(dirs=dirs)\n",
    "scheduler.submit()"
   ]
  },
  {
   "cell_type": "code",
   "execution_count": 5,
   "metadata": {},
   "outputs": [],
   "source": [
    "# d = ds.Dataset(path=dirs[0])\n",
    "# d.analyze(clear=False, sum=True)"
   ]
  },
  {
   "cell_type": "code",
   "execution_count": 6,
   "metadata": {},
   "outputs": [],
   "source": [
    "# for i in d.channels:\n",
    "#     store = pd.HDFStore(\"test1.h5\")\n",
    "#     data = {} \n",
    "#     data['amplitude'] = d.ch[i].peak\n",
    "#     data['integral'] = d.ch[i].integral\n",
    "#     data['avg_waveform'] = np.mean(d.ch[i].traces, axis=0)\n",
    "#     data['time'] = d.ch[i].time\n",
    "#     df = pd.DataFrame(dict([ (k,pd.Series(v)) for k,v in data.items() ]))\n",
    "\n",
    "#     metadata = {\"volt\": 65, 'pos':'top', 'light':'laser', 'coinc':'laser', 'cond':'calibration'}\n",
    "#     # if f\"/{metadata['volt']}/{i}\" in store.keys():\n",
    "#     #     print(\"yes\")\n",
    "#     #     store.append(f\"{metadata['volt']}/{i}\", df)\n",
    "#     # else:\n",
    "#     store.put(f\"{metadata['volt']}/{i}\", df, format='t', append=True, data_columns=True)\n",
    "#     store.get_storer(f'65/{i}').attrs.metadata = metadata\n",
    "#     store.close()\n",
    "    \n",
    "#     # df.attrs = {\"volt\": \"65\"}\n",
    "#     # df.to_hdf('test.h5', key=f'65/{i}')"
   ]
  },
  {
   "cell_type": "code",
   "execution_count": 7,
   "metadata": {},
   "outputs": [],
   "source": [
    "# with pd.HDFStore('test1.h5') as store:\n",
    "#     data = store[f'65/{i}']\n",
    "#     metadata = store.get_storer(f'65/{i}').attrs.metadata\n",
    "#     print(metadata)"
   ]
  },
  {
   "cell_type": "code",
   "execution_count": 8,
   "metadata": {},
   "outputs": [],
   "source": [
    "# data = pd.read_hdf('test1.h5', key=f'65/{i}')"
   ]
  },
  {
   "cell_type": "code",
   "execution_count": 9,
   "metadata": {},
   "outputs": [],
   "source": [
    "# plt.hist(data['amplitude'], bins=1000)\n",
    "# plt.show()"
   ]
  },
  {
   "cell_type": "code",
   "execution_count": 10,
   "metadata": {},
   "outputs": [],
   "source": [
    "# plt.plot(data['time'], data['avg_waveform'])"
   ]
  },
  {
   "cell_type": "code",
   "execution_count": 11,
   "metadata": {},
   "outputs": [],
   "source": [
    "# import re\n",
    "# tag_lists = ['volt', 'pos', 'light', 'coinc', 'cond']\n",
    "# tag_dict = {}\n",
    "# filename = dirs[0]\n",
    "# for tag in tag_lists:\n",
    "#     index = dirs[0].find(tag)\n",
    "#     filename = dirs[0][index:].split('/')[0]\n",
    "#     indices_object = re.finditer(pattern='_', string=filename)\n",
    "#     indices = [index.start() for index in indices_object]\n",
    "#     print(tag, filename, indices)\n",
    "#     if len(indices) < 2:\n",
    "#         tag_dict[tag] = filename[indices[0]+1:]\n",
    "#     else:\n",
    "#         tag_dict[tag] = filename[indices[0]+1:indices[1]]\n",
    "# print(tag_dict)"
   ]
  },
  {
   "cell_type": "code",
   "execution_count": null,
   "metadata": {},
   "outputs": [],
   "source": []
  }
 ],
 "metadata": {
  "kernelspec": {
   "display_name": "ds-pu",
   "language": "python",
   "name": "ds-pu"
  },
  "language_info": {
   "codemirror_mode": {
    "name": "ipython",
    "version": 3
   },
   "file_extension": ".py",
   "mimetype": "text/x-python",
   "name": "python",
   "nbconvert_exporter": "python",
   "pygments_lexer": "ipython3",
   "version": "3.8.13"
  },
  "orig_nbformat": 4
 },
 "nbformat": 4,
 "nbformat_minor": 2
}

{
 "cells": [
  {
   "cell_type": "code",
   "execution_count": 1,
   "metadata": {},
   "outputs": [],
   "source": [
    "import glob\n",
    "import sipm.util.scheduler as scheduler"
   ]
  },
  {
   "attachments": {},
   "cell_type": "markdown",
   "metadata": {},
   "source": [
    "## Run default analysis script"
   ]
  },
  {
   "cell_type": "code",
   "execution_count": 4,
   "metadata": {},
   "outputs": [],
   "source": [
    "dirs = glob.glob('/scratch/gpfs/GALBIATI/data/sipm/reflector_studies/2022-11-22/**/*/')\n",
    "num_events = 1000000000\n",
    "scheduler = scheduler.Scheduler(dirs=dirs)\n",
    "scheduler.submit(script=\"sipm/exe/analysis.py\",args=f\"-n {num_events}\")"
   ]
  },
  {
   "attachments": {},
   "cell_type": "markdown",
   "metadata": {},
   "source": [
    "## Run ```laser_pulse.py```"
   ]
  },
  {
   "cell_type": "code",
   "execution_count": 3,
   "metadata": {},
   "outputs": [],
   "source": [
    "dirs = glob.glob('/scratch/gpfs/GALBIATI/data/sipm/reflector_studies/2022-11-22/**/*/')\n",
    "num_events = 1000000000\n",
    "scheduler = scheduler.Scheduler(dirs=dirs)\n",
    "scheduler.submit(script=\"sipm/exe/laser_pulse.py\",args=f\"-n {num_events}\")"
   ]
  },
  {
   "attachments": {},
   "cell_type": "markdown",
   "metadata": {},
   "source": [
    "## Run `scintillation_pulse.py`"
   ]
  },
  {
   "cell_type": "code",
   "execution_count": 2,
   "metadata": {},
   "outputs": [],
   "source": [
    "dirs_gamma = glob.glob('/scratch/gpfs/GALBIATI/data/sipm/reflector_studies/2022-11-20/**/*/')\n",
    "dirs_bkg = glob.glob('/scratch/gpfs/GALBIATI/data/sipm/reflector_studies/2022-11-18/**_no_gamma/*/')\n",
    "dirs_coinc = glob.glob('/scratch/gpfs/GALBIATI/data/sipm/reflector_studies/2022-11-17/*pos_top*cond_gamma/*/') + \\\n",
    "    glob.glob('/scratch/gpfs/GALBIATI/data/sipm/reflector_studies/2022-11-15/2022-11-15_volt_65_pos_top_light_scintillation_coinc_111_cond_gamma_high_stat/*/')\n",
    "num_events = 100000\n",
    "sipm_calib_dir = \"/home/as111/sipm-analysis/data/calibration/\"\n",
    "scheduler = scheduler.Scheduler(dirs=dirs_gamma+dirs_bkg+dirs_coinc)\n",
    "scheduler.submit(script=\"sipm/exe/scintillation_pulse.py\",args=f\"-n {num_events} -s {sipm_calib_dir}\")"
   ]
  },
  {
   "attachments": {},
   "cell_type": "markdown",
   "metadata": {},
   "source": [
    "## Run ```laser_waveform.py```"
   ]
  },
  {
   "cell_type": "code",
   "execution_count": null,
   "metadata": {},
   "outputs": [],
   "source": [
    "dirs = glob.glob('/scratch/gpfs/GALBIATI/data/sipm/reflector_studies/2022-11-22/**/*/')\n",
    "num_events = 100000\n",
    "sipm_calib_dir = \"/home/as111/sipm-analysis/data/calibration/\"\n",
    "scheduler = scheduler.Scheduler(dirs=dirs)\n",
    "scheduler.submit(script=\"sipm/exe/laser_waveform.py\",args=f\"-n {num_events} -s {sipm_calib_dir}\")"
   ]
  },
  {
   "attachments": {},
   "cell_type": "markdown",
   "metadata": {},
   "source": [
    "## Run ```scintillation_waveform.py```"
   ]
  },
  {
   "attachments": {},
   "cell_type": "markdown",
   "metadata": {},
   "source": [
    "Final datasets"
   ]
  },
  {
   "cell_type": "code",
   "execution_count": 2,
   "metadata": {},
   "outputs": [],
   "source": [
    "dirs = glob.glob('/scratch/gpfs/GALBIATI/data/sipm/reflector_studies/2022-11-20/*pos_bottom*/*/')\n",
    "num_events = 100000\n",
    "sipm_calib_dir = \"/home/as111/sipm-analysis/data/calibration/\"\n",
    "fprompt_range=[0.1,0.5]\n",
    "pe_range=[100,1000]\n",
    "scheduler = scheduler.Scheduler(dirs=dirs)\n",
    "scheduler.submit(script=\"sipm/exe/scintillation_waveform.py\",args=f\"-n {num_events} -s {sipm_calib_dir} -p {fprompt_range[0]} {fprompt_range[1]} -e {pe_range[0]} {pe_range[1]}\")"
   ]
  },
  {
   "cell_type": "code",
   "execution_count": 3,
   "metadata": {},
   "outputs": [],
   "source": [
    "dirs = glob.glob('/scratch/gpfs/GALBIATI/data/sipm/reflector_studies/2022-11-20/*pos_top*/*/')\n",
    "num_events = 100000\n",
    "sipm_calib_dir = \"/home/as111/sipm-analysis/data/calibration/\"\n",
    "fprompt_range=[0.1,0.5]\n",
    "pe_range=[20,200]\n",
    "scheduler = scheduler.Scheduler(dirs=dirs)\n",
    "scheduler.submit(script=\"sipm/exe/scintillation_waveform.py\",args=f\"-n {num_events} -s {sipm_calib_dir} -p {fprompt_range[0]} {fprompt_range[1]} -e {pe_range[0]} {pe_range[1]}\")"
   ]
  },
  {
   "attachments": {},
   "cell_type": "markdown",
   "metadata": {},
   "source": [
    "Triplet lifetime evolution"
   ]
  },
  {
   "cell_type": "code",
   "execution_count": 2,
   "metadata": {},
   "outputs": [],
   "source": [
    "dirs = glob.glob('/scratch/gpfs/GALBIATI/data/sipm/reflector_studies/*/*pos_bottom*cond_gamma*/*/') + \\\n",
    "    glob.glob('/scratch/gpfs/GALBIATI/data/sipm/reflector_studies/*/*pos_bottom*cond_with_gamma*/*/')\n",
    "num_events = 100000\n",
    "sipm_calib_dir = \"/home/as111/sipm-analysis/data/calibration/\"\n",
    "fprompt_range=[0.1,0.5]\n",
    "pe_range=[100,1000]\n",
    "scheduler = scheduler.Scheduler(dirs=dirs)\n",
    "scheduler.cpu_memory = 16\n",
    "scheduler.submit(script=\"sipm/exe/scintillation_waveform.py\",args=f\"-n {num_events} -s {sipm_calib_dir} -p {fprompt_range[0]} {fprompt_range[1]} -e {pe_range[0]} {pe_range[1]}\")"
   ]
  },
  {
   "cell_type": "code",
   "execution_count": 3,
   "metadata": {},
   "outputs": [],
   "source": [
    "dirs = glob.glob('/scratch/gpfs/GALBIATI/data/sipm/reflector_studies/*/*pos_top*cond_gamma*/*/') + \\\n",
    "    glob.glob('/scratch/gpfs/GALBIATI/data/sipm/reflector_studies/*/*pos_top*cond_with_gamma*/*/')\n",
    "num_events = 100000\n",
    "sipm_calib_dir = \"/home/as111/sipm-analysis/data/calibration/\"\n",
    "fprompt_range=[0.1,0.5]\n",
    "pe_range=[20,200]\n",
    "scheduler = scheduler.Scheduler(dirs=dirs)\n",
    "scheduler.cpu_memory = 16\n",
    "scheduler.submit(script=\"sipm/exe/scintillation_waveform.py\",args=f\"-n {num_events} -s {sipm_calib_dir} -p {fprompt_range[0]} {fprompt_range[1]} -e {pe_range[0]} {pe_range[1]}\")"
   ]
  },
  {
   "attachments": {},
   "cell_type": "markdown",
   "metadata": {},
   "source": [
    "Datasets ``/scratch/gpfs/GALBIATI/data/sipm/reflector_studies//2022-11-08/2022-11-08_volt_65_pos_top_light_scintillation_coinc_111_cond_with_gamma_0`` and ``/scratch/gpfs/GALBIATI/data/sipm/reflector_studies//2022-11-07/2022-11-07_volt_65_pos_bottom_light_scintillation_coinc_111_cond_with_gamma_purification_overnight/13`` cannot be processed."
   ]
  }
 ],
 "metadata": {
  "kernelspec": {
   "display_name": "ds-pu",
   "language": "python",
   "name": "ds-pu"
  },
  "language_info": {
   "codemirror_mode": {
    "name": "ipython",
    "version": 3
   },
   "file_extension": ".py",
   "mimetype": "text/x-python",
   "name": "python",
   "nbconvert_exporter": "python",
   "pygments_lexer": "ipython3",
   "version": "3.8.13"
  },
  "orig_nbformat": 4,
  "vscode": {
   "interpreter": {
    "hash": "31f2aee4e71d21fbe5cf8b01ff0e069b9275f58929596ceb00d14d90e3e16cd6"
   }
  }
 },
 "nbformat": 4,
 "nbformat_minor": 2
}

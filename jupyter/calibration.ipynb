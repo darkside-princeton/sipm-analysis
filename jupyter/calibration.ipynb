{
 "cells": [
  {
   "cell_type": "code",
   "execution_count": 1,
   "metadata": {},
   "outputs": [],
   "source": [
    "import numpy as np\n",
    "import matplotlib.pyplot as plt\n",
    "from scipy.optimize import curve_fit\n",
    "from scipy.signal import find_peaks"
   ]
  },
  {
   "cell_type": "code",
   "execution_count": null,
   "metadata": {},
   "outputs": [],
   "source": [
    "import sipm.sipm as sipm\n",
    "import sipm.dataset as ds\n",
    "import sipm.functions as func"
   ]
  },
  {
   "cell_type": "code",
   "execution_count": null,
   "metadata": {},
   "outputs": [],
   "source": [
    "import importlib\n",
    "importlib.reload(sipm)\n",
    "importlib.reload(ds)\n",
    "importlib.reload(func)"
   ]
  },
  {
   "cell_type": "code",
   "execution_count": null,
   "metadata": {},
   "outputs": [],
   "source": [
    "plt.style.use('darkside')\n",
    "colors = plt.rcParams['axes.prop_cycle'].by_key()['color']"
   ]
  },
  {
   "cell_type": "code",
   "execution_count": null,
   "metadata": {},
   "outputs": [],
   "source": [
    "data = {}\n",
    "for i in range(20):\n",
    "    print(i)\n",
    "    data[i] = ds.Dataset(f\"2022-11-09/2022-11-09_volt_65_pos_bottom_light_scintillation_coinc_111_cond_with_gamma_high_stat/{i}/\", channels=[0,1,2,3])\n",
    "    data[i].analyze(num_events=50000, clear=True, combine=True)"
   ]
  },
  {
   "cell_type": "code",
   "execution_count": null,
   "metadata": {},
   "outputs": [],
   "source": [
    "count = 0\n",
    "sum_int = []\n",
    "for i in range(5):\n",
    "    if len(data[i].sum.integral)==0:\n",
    "        continue\n",
    "    if count == 0:\n",
    "        sum_int = np.array(data[i].sum.integral)\n",
    "    else:\n",
    "        sum_int = np.concatenate((sum_int, np.array(data[i].sum.integral)))\n",
    "    count += 1"
   ]
  },
  {
   "cell_type": "code",
   "execution_count": null,
   "metadata": {},
   "outputs": [],
   "source": [
    "plt.figure()\n",
    "plt.hist(sum_int, bins=np.linspace(0,1000000,200), histtype='step', label=f'{i}')\n",
    "plt.xlabel('Integral [a.u.]')\n",
    "plt.ylabel('Counts')\n",
    "plt.yscale('log')\n",
    "plt.legend(loc='upper right', fontsize=6)\n",
    "plt.savefig('spectrum_overnight.pdf')\n",
    "plt.show()"
   ]
  },
  {
   "cell_type": "code",
   "execution_count": null,
   "metadata": {},
   "outputs": [],
   "source": [
    "date = \"2022-11-03\"\n",
    "params = {\n",
    "    'volt': '{}',\n",
    "    'pos': '{}',\n",
    "    'light': 'laser',\n",
    "    'coinc': 'none',\n",
    "    'cond': 'calibration'\n",
    "    }\n",
    "\n",
    "tag = [\"_\".join([x, params[x]]) for x in params.keys()]\n",
    "tag = \"_\".join(tag)\n",
    "path = f\"{date}/{date}_{tag}/\""
   ]
  },
  {
   "cell_type": "code",
   "execution_count": null,
   "metadata": {},
   "outputs": [],
   "source": [
    "date = \"2022-11-08\"\n",
    "params = {\n",
    "    'volt': '{}',\n",
    "    'pos': '{}',\n",
    "    'light': 'scintillation',\n",
    "    'coinc': '111',\n",
    "    'cond': 'with_gamma_overnight'\n",
    "    }\n",
    "\n",
    "tag = [\"_\".join([x, params[x]]) for x in params.keys()]\n",
    "tag = \"_\".join(tag)\n",
    "path = f\"{date}/{date}_{tag}/\"\n",
    "print(path)"
   ]
  },
  {
   "cell_type": "code",
   "execution_count": null,
   "metadata": {},
   "outputs": [],
   "source": [
    "voltages = [65]\n",
    "channels = [0]"
   ]
  },
  {
   "cell_type": "code",
   "execution_count": null,
   "metadata": {},
   "outputs": [],
   "source": [
    "data = {}\n",
    "data[0] = ds.Dataset(\"2022-11-08/2022-11-08_volt_65_pos_top_light_scintillation_coinc_111_cond_with_gamma_overnight/10/\", channels=[0])\n",
    "data[1] = ds.Dataset(\"2022-11-07/2022-11-07_volt_65_pos_bottom_light_scintillation_coinc_111_cond_with_gamma_purification_overnight/10/\", channels=[0])\n",
    "for i in data.keys():\n",
    "    print(data[i].ch[0].files)\n",
    "    data[i].analyze(clear=True)"
   ]
  },
  {
   "cell_type": "code",
   "execution_count": null,
   "metadata": {},
   "outputs": [],
   "source": [
    "plt.figure()\n",
    "for i in data.keys():\n",
    "    plt.hist(data[i].ch[0].integral, bins=np.linspace(0,100000,1000), histtype='step', label=f'{i}')\n",
    "plt.xlabel('Integral [a.u.]')\n",
    "plt.ylabel('Counts')\n",
    "plt.yscale('log')\n",
    "plt.legend(loc='upper right', fontsize=6)\n",
    "plt.savefig('spectrum_overnight.pdf')\n",
    "plt.show()"
   ]
  },
  {
   "cell_type": "code",
   "execution_count": null,
   "metadata": {},
   "outputs": [],
   "source": [
    "datah = ds.Dataset(\"2022-11-09/2022-11-09_volt_65_pos_bottom_light_scintillation_coinc_111_cond_with_gamma_high_stat/*/\", channels=[0])\n",
    "datah.ch[0].files"
   ]
  },
  {
   "cell_type": "code",
   "execution_count": null,
   "metadata": {},
   "outputs": [],
   "source": [
    "data = {}\n",
    "for i in range(1):\n",
    "    data[i] = ds.Dataset(f\"2022-11-09/2022-11-09_volt_65_pos_bottom_light_scintillation_coinc_111_cond_with_gamma_high_stat/{i}/\", channels=[0])\n",
    "    data[i].analyze(clear=True)"
   ]
  },
  {
   "cell_type": "code",
   "execution_count": null,
   "metadata": {},
   "outputs": [],
   "source": [
    "count = 0\n",
    "sum_int = []\n",
    "for i in range(20):\n",
    "    if len(data[i].ch[0].integral)==0:\n",
    "        continue\n",
    "    if count == 0:\n",
    "        sum_int = np.array(data[i].ch[0].integral)\n",
    "    else:\n",
    "        sum_int = np.concatenate((sum_int, np.array(data[i].ch[0].integral)))\n",
    "    count += 1"
   ]
  },
  {
   "cell_type": "code",
   "execution_count": null,
   "metadata": {},
   "outputs": [],
   "source": [
    "plt.figure()\n",
    "for i in range(20):\n",
    "    plt.hist(data[i].ch[0].integral, bins=np.linspace(0,200000,1000), histtype='step', label=f'{i}h after start')\n",
    "plt.hist(sum_int, bins=np.linspace(0,300000,1000), histtype='step', color='k', label=f'{i}h after start')\n",
    "plt.xlabel('Integral [a.u.]')\n",
    "plt.ylabel('Counts')\n",
    "plt.yscale('log')\n",
    "# plt.legend(loc='upper right', fontsize=6)\n",
    "# plt.savefig('spectrum_overnight.pdf')\n",
    "plt.show()"
   ]
  },
  {
   "cell_type": "code",
   "execution_count": null,
   "metadata": {},
   "outputs": [],
   "source": [
    "plt.figure()\n",
    "for i in [7,10]:\n",
    "    plt.hist(data[i].ch[0].integral, bins=np.linspace(0,40000,1000), histtype='step', label=f'{i}h after start')\n",
    "plt.xlabel('Integral [a.u.]')\n",
    "plt.ylabel('Counts')\n",
    "plt.yscale('log')\n",
    "plt.legend(loc='upper right', fontsize=6)\n",
    "plt.savefig('spectrum_overnight.pdf')\n",
    "plt.show()"
   ]
  },
  {
   "cell_type": "code",
   "execution_count": null,
   "metadata": {},
   "outputs": [],
   "source": [
    "data.ch[0].read_data(num_events=1000)\n",
    "plt.plot(data.ch[0].time, data.ch[0].traces[0])"
   ]
  },
  {
   "cell_type": "code",
   "execution_count": null,
   "metadata": {},
   "outputs": [],
   "source": []
  },
  {
   "cell_type": "code",
   "execution_count": null,
   "metadata": {},
   "outputs": [],
   "source": [
    "data.ch[0].baseline_subtraction()\n",
    "plt.plot(data.ch[0].time, data.ch[0].traces[0])"
   ]
  },
  {
   "cell_type": "code",
   "execution_count": null,
   "metadata": {},
   "outputs": [],
   "source": [
    "data.ch[0].get_rolling_integral()"
   ]
  },
  {
   "cell_type": "code",
   "execution_count": null,
   "metadata": {},
   "outputs": [],
   "source": [
    "data.ch[0].get_integral()"
   ]
  },
  {
   "cell_type": "code",
   "execution_count": null,
   "metadata": {},
   "outputs": [],
   "source": [
    "plt.hist(data.ch[0].rolling_integral, bins=np.linspace(0,50000,100), histtype='step')\n",
    "plt.hist(data.ch[0].integral, bins=np.linspace(0,50000,100), histtype='step')\n",
    "plt.show()"
   ]
  },
  {
   "cell_type": "code",
   "execution_count": null,
   "metadata": {},
   "outputs": [],
   "source": [
    "from scipy import sparse\n",
    "from scipy.sparse.linalg import spsolve\n",
    "from BaselineRemoval import BaselineRemoval\n",
    "import pybaselines\n",
    "\n",
    "def baseline_als_optimized(y, lam, p, niter=20):\n",
    "    L = len(y)\n",
    "    D = sparse.diags([1,-2,1],[0,-1,-2], shape=(L,L-2))\n",
    "    D = lam * D.dot(D.transpose()) # Precompute this term since it does not depend on `w`\n",
    "    w = np.ones(L)\n",
    "    W = sparse.spdiags(w, 0, L, L)\n",
    "    for i in range(niter):\n",
    "        W.setdiag(w) # Do not create a new matrix, just update diagonal values\n",
    "        Z = W + D\n",
    "        z = spsolve(Z, w*y)\n",
    "        w = p * (y > z) + (1-p) * (y < z)\n",
    "    return z\n",
    "\n",
    "order = 1\n",
    "low = 100\n",
    "high = 0.4e7\n",
    "\n",
    "ix = 5\n",
    "for ix in range(10):\n",
    "  plt.figure()\n",
    "\n",
    "\n",
    "  bkg_4 = pybaselines.smooth.snip(data.ch[0].traces[ix], max_half_window=10, decreasing=True, smooth_half_window=10)[0]\n",
    "  plt.plot(data.ch[0].time, data.ch[0].traces[ix])\n",
    "  plt.plot(data.ch[0].time, data.ch[0].traces[ix]-bkg_4, lw=1, alpha=1)\n",
    "  # plt.plot(data.ch[0].time, np.cumsum(data.ch[0].traces[ix]))\n",
    "  plt.plot(data.ch[0].time, np.cumsum(data.ch[0].traces[ix]-bkg_4)/100, lw=1, alpha=1)\n",
    "  # corr = baseline_als_optimized(data.ch[0].traces[ix],10000,0.01)\n",
    "  # new_data = data.ch[0].traces[ix]-corr\n",
    "\n",
    "  \n",
    "  # plt.plot(data.ch[0].time, corr)\n",
    "  # plt.plot(data.ch[0].time, new_data)\n",
    "\n",
    "  # plt.plot(data.ch[0].time, np.cumsum(corr))\n",
    "\n",
    "  plt.hlines(y=0,xmin=-1,xmax=16, linestyles='--', color='k', lw=1, zorder=10)\n",
    "\n",
    "  # for low in [10000]:\n",
    "  #     b, a = signal.butter(order, [low,high], analog=False, fs=data.ch[0].sampling, btype='band')\n",
    "\n",
    "  #     corr = baseline_als_optimized(data.ch[0].traces[ix],10000,0.001)\n",
    "  #     corr2 = data.ch[0].traces[ix]-corr\n",
    "  #     corr2 -= np.mean(corr2[:500])\n",
    "  #     corr3 = BaselineRemoval(data.ch[0].traces[ix])\n",
    "      \n",
    "  #     # plt.plot(data.ch[0].time, corr, lw=1, alpha=1)\n",
    "  #     plt.plot(data.ch[0].time, corr2, lw=1, alpha=1)\n",
    "  #     plt.plot(data.ch[0].time, corr3.IModPoly(10), lw=1, alpha=1)\n",
    "\n",
    "  # #     plt.plot(data.ch[0].time, signal.sosfilt(sos,data.ch[0].traces[ix]), lw=1, alpha=1)\n",
    "\n",
    "\n",
    "  # plt.plot(data.ch[0].time, np.cumsum(data.ch[0].traces[ix])/100, lw=1, alpha=1)\n",
    "  # plt.plot(data.ch[0].time, np.cumsum(corr2)/100, lw=1, alpha=1)\n",
    "  # plt.plot(data.ch[0].time, np.cumsum(corr3.IModPoly(10))/100, lw=1, alpha=1)\n",
    "  # plt.plot(data.ch[0].time, np.cumsum(data.ch[0].traces[ix]))\n",
    "\n",
    "\n",
    "  plt.xlim(-1,16)\n",
    "  plt.show()"
   ]
  },
  {
   "cell_type": "code",
   "execution_count": null,
   "metadata": {},
   "outputs": [],
   "source": [
    "data.ch[0].bandpass_filter(low=0.1, high=0.5e8, order=3, keep=True)\n",
    "plt.plot(data.ch[0].time, data.ch[0].traces[0])"
   ]
  },
  {
   "cell_type": "code",
   "execution_count": null,
   "metadata": {},
   "outputs": [],
   "source": []
  },
  {
   "cell_type": "code",
   "execution_count": null,
   "metadata": {},
   "outputs": [],
   "source": [
    "data.ch[0].files"
   ]
  },
  {
   "cell_type": "code",
   "execution_count": null,
   "metadata": {},
   "outputs": [],
   "source": [
    "data.analyze(num_events=10)"
   ]
  },
  {
   "cell_type": "code",
   "execution_count": null,
   "metadata": {},
   "outputs": [],
   "source": [
    "plt.figure()\n",
    "plt.plot(data.ch[0].time, data.ch[0].traces[0])\n",
    "plt.show()"
   ]
  },
  {
   "cell_type": "code",
   "execution_count": null,
   "metadata": {},
   "outputs": [],
   "source": [
    "data = {}\n",
    "for pos in positions[:1]:\n",
    "    data[pos] = {}\n",
    "    for volt in voltages:\n",
    "        data[pos][volt] = ds.Dataset(path.format(volt, pos), pol=-1, channels=channels[:1])\n",
    "        print(f\"{len(data[pos][volt].ch[0].files)} file are being used...\")\n",
    "        data[pos][volt].ch[0].files = data[pos][volt].ch[0].files[::10]\n",
    "        for i in channels:\n",
    "            print(f\"Analyzing channel {i} on {pos} tile at {volt} volt\")\n",
    "            data[pos][volt].ch[i].read_data()\n",
    "            data[pos][volt].ch[i].bandpass_filter(low=1, high=8e6, order=1)\n",
    "            data[pos][volt].ch[i].baseline_subtraction()\n",
    "            data[pos][volt].ch[i].get_max()\n",
    "            data[pos][volt].ch[i].get_integral()\n",
    "            # data[pos][volt].ch[i].clear()\n",
    "            # data[pos][volt].ch[i].calibrate(data[pos][volt].ch[i].peak, width=10, verbose=1)\n",
    "            # data[pos][volt].ch[i].plot_calibration(data[pos][volt].ch[i].peak)"
   ]
  },
  {
   "cell_type": "code",
   "execution_count": null,
   "metadata": {},
   "outputs": [],
   "source": [
    "cut = np.where((np.array(data['bottom'][65].ch[0].peak) > 4.5) & (np.array(data['bottom'][65].ch[0].peak) < 4.8))[0]"
   ]
  },
  {
   "cell_type": "code",
   "execution_count": null,
   "metadata": {},
   "outputs": [],
   "source": [
    "pe_avg = np.mean(data['bottom'][65].ch[0].traces[cut],axis=0)"
   ]
  },
  {
   "cell_type": "code",
   "execution_count": null,
   "metadata": {},
   "outputs": [],
   "source": [
    "popt1, pcov1 = curve_fit(func3, data['bottom'][65].ch[0].time, pe_avg, p0=[4.5,6.3,0.1,0.04,1.5])\n",
    "print(popt1[-3:])"
   ]
  },
  {
   "cell_type": "code",
   "execution_count": null,
   "metadata": {},
   "outputs": [],
   "source": [
    "plt.figure()\n",
    "plt.xlim(6,7)\n",
    "for i in cut[:100]:\n",
    "    plt.plot(data['bottom'][65].ch[0].time, data['bottom'][65].ch[0].traces[i], lw=1, color='k', alpha=0.1)\n",
    "plt.plot(data['bottom'][65].ch[0].time, pe_avg, lw=1, color='r', alpha=1)\n",
    "plt.plot(data['bottom'][65].ch[0].time, func3(data['bottom'][65].ch[0].time, *popt1), lw=1, linestyle='--')\n",
    "# plt.plot(data['bottom'][65].ch[0].time, func3(data['bottom'][65].ch[0].time, 2.5, 6.3, 1.83/250.0, 40.0/250.0, 500.0/250.0), lw=1, linestyle='--')\n",
    "plt.show()"
   ]
  },
  {
   "cell_type": "code",
   "execution_count": null,
   "metadata": {},
   "outputs": [],
   "source": [
    "def gauss(x,mu=0,sigma=0.1):\n",
    "    x = x-mu\n",
    "    return np.exp(-np.square((x-mu)/sigma)/2)/(sigma*np.sqrt(2*np.pi))\n",
    "\n",
    "time = data['bottom'][65].ch[0].time\n",
    "desire_x = np.linspace(-len(time)//2,len(time)//2,len(time))\n",
    "desire_y = gauss(desire_x, mu=0, sigma=20)\n",
    "resp_x = np.linspace(-10,10000,len(time))\n",
    "resp_y = func3(resp_x, 1, 0, *np.array(popt1[-3:])*250)\n",
    "\n",
    "resp_f = np.fft.fft(resp_y)\n",
    "desire_f = np.fft.fft(desire_y)\n",
    "filter_f = desire_f/resp_f\n",
    "filter_y = np.real(np.fft.ifft(filter_f))"
   ]
  },
  {
   "cell_type": "code",
   "execution_count": null,
   "metadata": {},
   "outputs": [],
   "source": [
    "print(data['bottom'][65].ch[0].time[1500])\n",
    "print(data['bottom'][65].ch[0].time[3000])\n",
    "new_int = [] \n",
    "for i in cut[:5]:\n",
    "    if i % 10000 == 0:\n",
    "        print(i)\n",
    "    deconv = np.convolve(data['bottom'][65].ch[0].traces[i],filter_y,'same')\n",
    "    pp,pdict = find_peaks(deconv, prominence=0.2, height=0.2, width=3)\n",
    "    # print(pdict['peak_heights'])\n",
    "\n",
    "    new_int.append(np.sum(pdict['peak_heights']))\n",
    "    \n",
    "    plt.figure()\n",
    "    # plt.xlim(5.0,8.0)\n",
    "    plt.ylim(-1,1)\n",
    "    \n",
    "    plt.plot(data['bottom'][65].ch[0].time, data['bottom'][65].ch[0].traces[i]/np.max(data['bottom'][65].ch[0].traces[i]))\n",
    "    # plt.plot(data['bottom'][65].ch[0].time, np.cumsum(data['bottom'][65].ch[0].traces[i])/np.max(np.cumsum(data['bottom'][65].ch[0].traces[i])))\n",
    "    \n",
    "    plt.plot(data['bottom'][65].ch[0].time, deconv/np.max(deconv[100:-100]))\n",
    "\n",
    "    # popt,pcov = curve_fit(func3, data['bottom'][65].ch[0].time, data['bottom'][65].ch[0].traces[i], p0=[4.5,6.3,0.02,0.04,0.5])\n",
    "\n",
    "    # xfit = np.linspace(0,16,10000)\n",
    "    # plt.plot(xfit, func3(xfit, *popt), lw=1, linestyle='--')\n",
    "\n",
    "    # plt.plot(data['bottom'][65].ch[0].time, deconv/np.max(deconv))\n",
    "    plt.plot(data['bottom'][65].ch[0].time, np.cumsum(deconv)/np.max(np.cumsum(deconv)))\n",
    "    plt.hlines(y=0, xmin=0, xmax=16, linestyles='--', color='k', lw=1, zorder=10)\n",
    "    # plt.vlines(x=data['bottom'][65].ch[0].time[1500], ymin=0, ymax=1,linestyles='--', color='k', lw=1)\n",
    "    # plt.vlines(x=data['bottom'][65].ch[0].time[3000], ymin=0, ymax=1,linestyles='--', color='k', lw=1)\n",
    "    plt.show()"
   ]
  },
  {
   "cell_type": "code",
   "execution_count": null,
   "metadata": {},
   "outputs": [],
   "source": [
    "print(np.shape(data['bottom'][65].ch[0].integral[:10000]))\n",
    "print(np.shape(new_int))"
   ]
  },
  {
   "cell_type": "code",
   "execution_count": null,
   "metadata": {},
   "outputs": [],
   "source": [
    "plt.figure()\n",
    "plt.xlim(0,40000)\n",
    "plt.ylim(0,10)\n",
    "plt.scatter(data['bottom'][65].ch[0].integral[:10000], new_int, s=0.1)\n",
    "plt.show()"
   ]
  },
  {
   "cell_type": "code",
   "execution_count": null,
   "metadata": {},
   "outputs": [],
   "source": [
    "plt.figure()\n",
    "# plt.xlim(0,5)\n",
    "# plt.ylim(1e-2,1e2)\n",
    "plt.hist(np.array(data['bottom'][65].ch[0].integral[:10000]), bins=np.linspace(0,100000,200), histtype='step')\n",
    "plt.hist(np.array(data['bottom'][65].ch[0].integral[10000:20000]), bins=np.linspace(0,100000,200), histtype='step')\n",
    "plt.hist(np.array(data['bottom'][65].ch[0].integral[20000:30000]), bins=np.linspace(0,100000,200), histtype='step')\n",
    "# plt.hist(np.array(data['bottom'][65].ch[0].peak)[:10000]/16, bins=np.linspace(0,20,2000), histtype='step')\n",
    "# plt.hist(new_int, bins=np.linspace(0,20,2000), histtype='step')\n",
    "plt.yscale('log')\n",
    "plt.show()"
   ]
  },
  {
   "cell_type": "code",
   "execution_count": null,
   "metadata": {},
   "outputs": [],
   "source": [
    "h2, hx2 = np.histogram(data['bottom'][70].ch[0].integral, bins=np.linspace(0,200000,200))"
   ]
  },
  {
   "cell_type": "code",
   "execution_count": null,
   "metadata": {},
   "outputs": [],
   "source": [
    "h1, hx1 = np.histogram(data['bottom'][70].ch[0].integral, bins=np.linspace(0,200000,200))"
   ]
  },
  {
   "cell_type": "code",
   "execution_count": null,
   "metadata": {},
   "outputs": [],
   "source": [
    "plt.figure()\n",
    "plt.ylim(1e-2,1e0)\n",
    "plt.step(hx1[:-1], h1/np.max(h1), lw=1)\n",
    "plt.step(hx2[:-1], h2/np.max(h2[10:]), lw=1)\n",
    "plt.yscale('log')\n",
    "plt.show()"
   ]
  },
  {
   "cell_type": "code",
   "execution_count": null,
   "metadata": {},
   "outputs": [],
   "source": [
    "stamps = np.array(data['bottom'][70].ch[0].timestamp)/1e9*8\n",
    "plt.plot(stamps)\n",
    "plt.plot(np.diff(stamps))\n",
    "for x in np.where(np.diff(stamps)<0)[0]:\n",
    "    stamps[x+1:] += (stamps[x]-stamps[x+1])\n",
    "plt.plot(stamps)\n",
    "print((stamps[-1] - stamps[0]))"
   ]
  },
  {
   "cell_type": "code",
   "execution_count": null,
   "metadata": {},
   "outputs": [],
   "source": [
    "voltages = np.array(list(data['top'].keys()))[:-1]\n",
    "gains = np.array([data['top'][x].ch[0].calib[0] for x in data['top'].keys()])[:-1]\n",
    "popt,pcov = curve_fit(func.line, voltages, gains)\n",
    "xfit = np.linspace(40,100,100)\n",
    "\n",
    "\n",
    "plt.figure()\n",
    "plt.scatter(voltages,gains)\n",
    "plt.plot(xfit, func.line(xfit, *popt), ls='--', label=f'$V_{{\\mathrm{{BD}}}}={popt[1]:.3f}$V')\n",
    "plt.ylim(0,10)\n",
    "plt.legend(loc='lower right')\n",
    "plt.show()"
   ]
  },
  {
   "cell_type": "code",
   "execution_count": null,
   "metadata": {},
   "outputs": [],
   "source": [
    "# plt.figure()\n",
    "# h,hx = np.histogram(data.ch[0].peak, bins=np.arange(0,np.max(data.ch[0].peak),.1))\n",
    "# plt.step(hx[:-1], h, where='post')\n",
    "# plt.scatter(hx[data.ch[0].pp], h[data.ch[0].pp], color='r', s=3, zorder=10)\n",
    "# for popt in data.ch[0].fit_p:\n",
    "#     plt.plot(hx[:-1], func.gauss(hx[:-1], *popt), color=colors[1], lw=1, zorder=10)\n",
    "# plt.yscale('log')\n",
    "# plt.xlim(0,100)\n",
    "# plt.ylim(1e-1,1e5)\n",
    "# plt.show()"
   ]
  },
  {
   "cell_type": "code",
   "execution_count": null,
   "metadata": {},
   "outputs": [],
   "source": [
    "# from scipy.signal import find_peaks\n",
    "# from scipy.optimize import curve_fit\n",
    "\n",
    "# def gauss(x,a,b,c):\n",
    "#     return a*np.exp(-(x-b)**2/(2*c**2))\n",
    "\n",
    "\n",
    "# pp = []\n",
    "# width = 6\n",
    "\n",
    "# plt.figure()\n",
    "# for i in channels[:1]:\n",
    "#     plt.hist(data['bottom'][63].ch[i].peak, bins=np.arange(0,100,0.1), histtype='step')\n",
    "#     h,hx = np.histogram(data['bottom'][63].ch[i].peak, bins=np.arange(0,np.max(data['bottom'][63].ch[i].peak),.1))\n",
    "\n",
    "#     while len(pp)<=3:\n",
    "#         print('Peak search with width={} ...'.format(width))\n",
    "#         pp,pdict = find_peaks(h, prominence=2, width=width)\n",
    "        \n",
    "#         width -= 1\n",
    "\n",
    "#     print(\"Found {} peaks\".format(len(pp)))\n",
    "#     ww = 10\n",
    "#     fit_p = []\n",
    "#     fit_c = []\n",
    "#     plt.scatter(hx[pp], h[pp], color='r', s=3, zorder=10)\n",
    "#     for x in pp: \n",
    "#         popt,pcov = curve_fit(gauss, hx[:-1][x-ww:x+ww], h[x-ww:x+ww], p0=[h[x], hx[:-1][x], 2], maxfev=10000)\n",
    "#         plt.plot(hx[:-1][x-ww:x+ww], gauss(hx[:-1][x-ww:x+ww], *popt), color=colors[1], lw=1, zorder=10)\n",
    "#         fit_p.append(popt)\n",
    "#         fit_c.append(pcov)\n",
    "# plt.yscale('log')\n",
    "# plt.show()"
   ]
  },
  {
   "cell_type": "code",
   "execution_count": null,
   "metadata": {},
   "outputs": [],
   "source": [
    "\n"
   ]
  }
 ],
 "metadata": {
  "kernelspec": {
   "display_name": "ds-pu",
   "language": "python",
   "name": "ds-pu"
  },
  "orig_nbformat": 4,
  "vscode": {
   "interpreter": {
    "hash": "42113827f4f4f07d6b2b9baac961823db80ea7cf4a724d435c5374398a25473f"
   }
  }
 },
 "nbformat": 4,
 "nbformat_minor": 2
}

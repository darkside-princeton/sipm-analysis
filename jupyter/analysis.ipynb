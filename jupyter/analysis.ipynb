{
 "cells": [
  {
   "cell_type": "code",
   "execution_count": null,
   "metadata": {},
   "outputs": [],
   "source": [
    "import numpy as np\n",
    "import matplotlib.pyplot as plt\n",
    "from scipy.optimize import curve_fit\n",
    "from scipy.special import erfc\n",
    "from scipy.signal import butter, lfilter\n",
    "from scipy.signal import find_peaks"
   ]
  },
  {
   "cell_type": "code",
   "execution_count": null,
   "metadata": {},
   "outputs": [],
   "source": [
    "plt.style.use('darkside')\n",
    "colors = plt.rcParams['axes.prop_cycle'].by_key()['color']"
   ]
  },
  {
   "cell_type": "code",
   "execution_count": null,
   "metadata": {},
   "outputs": [],
   "source": [
    "def butter_bandpass(lowcut, highcut, fs, order=5):\n",
    "    return butter(order, [lowcut, highcut], fs=fs, btype='band')\n",
    "\n",
    "def butter_bandpass_filter(data, lowcut, highcut, fs, order=5):\n",
    "    b, a = butter_bandpass(lowcut, highcut, fs, order=order)\n",
    "    y = lfilter(b, a, data)\n",
    "    return y"
   ]
  },
  {
   "cell_type": "code",
   "execution_count": null,
   "metadata": {},
   "outputs": [],
   "source": [
    "# Sample rate and desired cutoff frequencies (in Hz).\n",
    "fs = 250000000.0\n",
    "lowcut = 10.0\n",
    "highcut = 8000000.0"
   ]
  },
  {
   "cell_type": "code",
   "execution_count": null,
   "metadata": {},
   "outputs": [],
   "source": [
    "def gauss(x,a,b,c):\n",
    "    return a*np.exp(-(x-b)**2/(2*c**2))\n",
    "\n",
    "def line(x,a,b):\n",
    "    return a*x+b"
   ]
  },
  {
   "cell_type": "code",
   "execution_count": null,
   "metadata": {},
   "outputs": [],
   "source": [
    "voltages = ['20220923_60V_laser_3725thres','20220923_61V_laser_3722thres','20220923_62V_laser_3722thres','20220923_63V_laser_3720thres','20220923_64V_laser_3718thres']"
   ]
  },
  {
   "cell_type": "code",
   "execution_count": null,
   "metadata": {},
   "outputs": [],
   "source": [
    "for ch in [0,1,2,3]:\n",
    "    for volt in voltages: \n",
    "        print(ch, volt)\n",
    "        \n",
    "        fname = \"/home/aj9512/jadwin-365/data/sipm/{}/wave{}.dat\".format(volt,ch)\n",
    "        dt = np.dtype('<H')\n",
    "        file = open(fname, 'rb')\n",
    "        traces = np.fromfile(file, dtype=dt, count=-1)\n",
    "        file.close()\n",
    "\n",
    "        traces = traces.reshape((-1,2048)).astype(float)\n",
    "        tt = np.arange(0,0.004*2048,0.004)\n",
    "\n",
    "        amp = [] \n",
    "        integral = []\n",
    "\n",
    "        for i,wvf in enumerate(traces):\n",
    "            if i % 10000 == 0:\n",
    "                print(i)\n",
    "            traces[i] = traces[i] - np.mean(traces[i][:100])\n",
    "            traces[i] = butter_bandpass_filter(traces[i], lowcut, highcut, fs, order=3)\n",
    "            amp.append(np.min(traces[i]))\n",
    "            integral.append(np.sum(traces[i]))\n",
    "        \n",
    "        amp = np.array(amp)\n",
    "        integral = np.array(integral)\n",
    "\n",
    "        h,hx = np.histogram(np.abs(amp), bins=np.arange(0,100,.1))\n",
    "        pp,pdict = find_peaks(h, prominence=100, width=10, distance=5)\n",
    "        fig, ax = plt.subplots(figsize=(9,3), ncols=2,nrows=1)\n",
    "        ww = 10\n",
    "        fit_p = []\n",
    "        fit_c = []\n",
    "\n",
    "        for x in pp: \n",
    "            popt,pcov = curve_fit(gauss, hx[:-1][x-ww:x+ww], h[x-ww:x+ww], p0=[h[x], hx[:-1][x], 2], maxfev=10000)\n",
    "            ax[0].plot(hx[:-1][x-ww:x+ww], gauss(hx[:-1][x-ww:x+ww], *popt), color=colors[1], lw=1, zorder=10)\n",
    "            fit_p.append(popt)\n",
    "            fit_c.append(pcov)\n",
    "\n",
    "        ax[0].step(hx[:-1],h, where='post')\n",
    "        ax[0].scatter(hx[pp], h[pp], color='r', s=3, zorder=10)\n",
    "        ax[0].set_xlabel('Amplitude [mV]')\n",
    "        ax[0].set_ylabel('Counts')\n",
    "        ax[0].set_yscale('log')\n",
    "        ax[0].set_xlim(0,30)\n",
    "        ax[0].set_ylim(1e0,1e4)\n",
    "\n",
    "        popt,pcov = curve_fit(line, np.arange(1,len(fit_p)+1,1), np.array(fit_p)[:,1])\n",
    "        perr = np.sqrt(np.diag(pcov))\n",
    "        print(perr)\n",
    "        xfit = np.linspace(0,20,100)\n",
    "\n",
    "        gain = np.mean(np.diff(np.array(fit_p)[:,1]))\n",
    "        print(gain)\n",
    "        print(pp)\n",
    "\n",
    "        ax[1].grid()\n",
    "        ax[1].plot(xfit, line(xfit, *popt), color=colors[1], ls='--', label=r'$m={:.3f}\\pm {:.3f}$/p.e.'.format(popt[0], perr[0]))\n",
    "        ax[1].scatter(np.arange(1,len(fit_p)+1,1), np.array(fit_p)[:,1])\n",
    "        ax[1].set_xlabel('Number of p.e.')\n",
    "        ax[1].set_ylabel('Amplitude [a.u.]')\n",
    "        ax[1].set_xlim(0,10)\n",
    "        ax[1].set_ylim(0,20)\n",
    "        ax[1].legend(loc='lower right')\n",
    "\n",
    "        plt.show()"
   ]
  },
  {
   "cell_type": "code",
   "execution_count": null,
   "metadata": {},
   "outputs": [],
   "source": [
    "ch = 0\n",
    "# fname = \"/home/aj9512/jadwin-365/data/sipm/20220923_60V_laser_3725thres/wave{}.dat\".format(ch)\n",
    "# fname = \"/home/aj9512/jadwin-365/data/sipm/20220923_61V_laser_3722thres/wave{}.dat\".format(ch)\n",
    "# fname = \"/home/aj9512/jadwin-365/data/sipm/20220923_62V_laser_3722thres/wave{}.dat\".format(ch)\n",
    "# fname = \"/home/aj9512/jadwin-365/data/sipm/20220923_63V_laser_3720thres/wave{}.dat\".format(ch)\n",
    "# fname = \"/home/aj9512/jadwin-365/data/sipm/20220923_64V_laser_3718thres/wave{}.dat\".format(ch)\n",
    "fname = \"/home/aj9512/jadwin-365/data/sipm/20220923_60V_scint_3710thres/wave{}.dat\".format(ch)"
   ]
  },
  {
   "cell_type": "code",
   "execution_count": null,
   "metadata": {},
   "outputs": [],
   "source": [
    "dt = np.dtype('<H')\n",
    "file = open(fname, 'rb')\n",
    "traces = np.fromfile(file, dtype=dt, count=-1)\n",
    "file.close()"
   ]
  },
  {
   "cell_type": "code",
   "execution_count": null,
   "metadata": {},
   "outputs": [],
   "source": [
    "traces = traces.reshape((-1,2048)).astype(float)\n",
    "tt = np.arange(0,0.004*2048,0.004)"
   ]
  },
  {
   "cell_type": "code",
   "execution_count": null,
   "metadata": {},
   "outputs": [],
   "source": [
    "y = butter_bandpass_filter(traces[1000], lowcut, highcut, fs, order=3)\n",
    "\n",
    "plt.figure()\n",
    "plt.plot(tt, traces[1000]-np.mean(traces[1000][:100]), label='original')\n",
    "plt.plot(tt, y-np.mean(y[100:200]), label='filtered')\n",
    "plt.xlabel('Time [$\\mu$s]')\n",
    "plt.ylabel('Amplitude [mV]')\n",
    "plt.xlim(2,4)\n",
    "plt.ylim(-50, 10)\n",
    "plt.legend(loc='upper right')\n",
    "plt.show()"
   ]
  },
  {
   "cell_type": "code",
   "execution_count": null,
   "metadata": {},
   "outputs": [],
   "source": [
    "amp = [] \n",
    "integral = []\n",
    "\n",
    "for i,wvf in enumerate(traces):\n",
    "    if i % 10000 == 0:\n",
    "        print(i)\n",
    "    traces[i] = traces[i] - np.mean(traces[i][:100])\n",
    "    traces[i] = butter_bandpass_filter(traces[i], lowcut, highcut, fs, order=3)\n",
    "    amp.append(np.min(traces[i]))\n",
    "    integral.append(np.sum(traces[i]))"
   ]
  },
  {
   "cell_type": "code",
   "execution_count": null,
   "metadata": {},
   "outputs": [],
   "source": [
    "amp = np.array(amp)\n",
    "integral = np.array(integral)"
   ]
  },
  {
   "cell_type": "code",
   "execution_count": null,
   "metadata": {},
   "outputs": [],
   "source": [
    "plt.figure()\n",
    "\n",
    "for i,wvf in enumerate(traces[::1000]):\n",
    "    plt.plot(tt, wvf, lw=1, color='k', alpha=0.1)\n",
    "# plt.plot(tt, np.mean(traces, axis=0), color='r')\n",
    "# plt.vlines(x=0.4*np.max(tt), ymin=-100, ymax=20, linestyles='--', lw=1)\n",
    "\n",
    "plt.xlabel('Time [$\\mu$s]')\n",
    "plt.ylabel('Amplitude [mV]')\n",
    "plt.xlim(2,8)\n",
    "plt.ylim(-500, 10)\n",
    "plt.show()"
   ]
  },
  {
   "cell_type": "code",
   "execution_count": null,
   "metadata": {},
   "outputs": [],
   "source": [
    "\n",
    "h,hx = np.histogram(np.abs(amp), bins=np.arange(0,1000,.1))\n",
    "\n",
    "pp,pdict = find_peaks(h, prominence=100, width=10, distance=5)\n",
    "\n",
    "fig, ax = plt.subplots(figsize=(9,3), ncols=2,nrows=1)\n",
    "ww = 10\n",
    "fit_p = []\n",
    "fit_c = []\n",
    "\n",
    "# for x in pp: \n",
    "#     popt,pcov = curve_fit(gauss, hx[:-1][x-ww:x+ww], h[x-ww:x+ww], p0=[h[x], hx[:-1][x], 2], maxfev=10000)\n",
    "#     ax[0].plot(hx[:-1][x-ww:x+ww], gauss(hx[:-1][x-ww:x+ww], *popt), color=colors[1], lw=1, zorder=10)\n",
    "#     fit_p.append(popt)\n",
    "#     fit_c.append(pcov)\n",
    "\n",
    "ax[0].step(hx[:-1],h, where='post')\n",
    "ax[0].scatter(hx[pp], h[pp], color='r', s=3, zorder=10)\n",
    "ax[0].set_xlabel('Amplitude [mV]')\n",
    "ax[0].set_ylabel('Counts')\n",
    "ax[0].set_yscale('log')\n",
    "ax[0].set_xlim(0,50)\n",
    "ax[0].set_ylim(1e0,1e4)\n",
    "\n",
    "# popt,pcov = curve_fit(line, np.arange(1,len(fit_p)+1,1), np.array(fit_p)[:,1])\n",
    "# perr = np.sqrt(np.diag(pcov))\n",
    "# print(perr)\n",
    "# xfit = np.linspace(0,20,100)\n",
    "\n",
    "# gain = np.mean(np.diff(np.array(fit_p)[:,1]))\n",
    "# print(gain)\n",
    "# print(pp)\n",
    "\n",
    "# ax[1].grid()\n",
    "# ax[1].plot(xfit, line(xfit, *popt), color=colors[1], ls='--', label=r'$m={:.3f}\\pm {:.3f}$/p.e.'.format(popt[0], perr[0]))\n",
    "# ax[1].scatter(np.arange(1,len(fit_p)+1,1), np.array(fit_p)[:,1])\n",
    "# ax[1].set_xlabel('Number of p.e.')\n",
    "# ax[1].set_ylabel('Amplitude [a.u.]')\n",
    "# ax[1].set_xlim(0,10)\n",
    "# ax[1].set_ylim(0,20)\n",
    "# ax[1].legend(loc='lower right')\n",
    "\n",
    "plt.show()"
   ]
  },
  {
   "cell_type": "code",
   "execution_count": null,
   "metadata": {},
   "outputs": [],
   "source": [
    "plt.figure()\n",
    "norm_all = []\n",
    "for i,wvf in enumerate(traces[::100]):\n",
    "    wvf_norm = -1*wvf/np.min(wvf)\n",
    "    norm_all.append(wvf_norm)\n",
    "    plt.plot(tt, wvf_norm, lw=1, color='k', alpha=0.01)\n",
    "\n",
    "mean_norm = np.mean(norm_all, axis=0)\n",
    "plt.plot(tt, mean_norm, color='r')\n",
    "\n",
    "plt.xlabel('Time [$\\mu$s]')\n",
    "plt.ylabel('Amplitude [mV]')\n",
    "plt.xlim(0,np.max(tt))\n",
    "plt.xlim(3,5)\n",
    "plt.ylim(-2,2)\n",
    "plt.show()"
   ]
  },
  {
   "cell_type": "code",
   "execution_count": null,
   "metadata": {},
   "outputs": [],
   "source": [
    "def func(x,a,b,c,d,e):\n",
    "    return a*np.exp(-x/b)+c*np.exp(-x/d)+e\n",
    "def func2(x,a,b,c):\n",
    "    return a*np.exp(-x/b)+c\n",
    "\n",
    "def func3(x,base,V0,sigma,tau,mu,tau2):\n",
    "    return base + V0/2.0 * erfc(1.0/np.sqrt(2.0) * (sigma/tau - (x-mu)/sigma)) * ( np.exp(0.5 * (sigma/tau)**2 - (x-mu)/tau) + np.exp(0.5 * (sigma/tau2)**2 - (x-mu)/tau2))\n",
    "\n",
    "def func4(x,base,V0,sigma,tau,mu):\n",
    "    return base + V0/2.0 * erfc(1.0/np.sqrt(2.0) * (sigma/tau - (x-mu)/sigma)) * ( np.exp(0.5 * (sigma/tau)**2 - (x-mu)/tau))\n",
    "\n",
    "popt2,pcov2 = curve_fit(func3, tt, -1*mean_norm, maxfev=10000, p0=[0, 1, 0.1, 0.03, 3.2, 1.], bounds=([-1,0,0,0,3,1],[1,2,2,1,3.5,2]))\n",
    "xfit = np.linspace(0,10,100000)\n",
    "print(popt2)\n",
    "\n",
    "plt.figure()\n",
    "plt.plot(tt, -1*mean_norm, color='k')\n",
    "plt.plot(xfit, func3(xfit, *popt2), color='r', ls='-', label=r\"$\\tau_1={:.3f}\\,\\mu$s, $\\tau_2={:.3f}\\,\\mu$s\".format(popt2[3], popt2[-1]), lw=1)\n",
    "plt.plot(xfit, func4(xfit,  *popt2[:-1]), color='b', ls='--', label=\"Singlet\", lw=1)\n",
    "plt.plot(xfit, func4(xfit,  popt2[0], popt2[1], popt2[2], popt2[-1],popt2[4]), color='g', ls='--', label=\"Triplet\", lw=1)\n",
    "\n",
    "plt.xlabel('Time [$\\mu$s]')\n",
    "plt.ylabel('Amplitude [mV]')\n",
    "plt.xlim(0,np.max(tt))\n",
    "plt.xlim(2,8)\n",
    "plt.ylim(-1,1)\n",
    "plt.legend(loc='upper right')\n",
    "plt.show()"
   ]
  },
  {
   "cell_type": "code",
   "execution_count": null,
   "metadata": {},
   "outputs": [],
   "source": []
  }
 ],
 "metadata": {
  "kernelspec": {
   "display_name": "ds-pu",
   "language": "python",
   "name": "ds-pu"
  },
  "orig_nbformat": 4,
  "vscode": {
   "interpreter": {
    "hash": "42113827f4f4f07d6b2b9baac961823db80ea7cf4a724d435c5374398a25473f"
   }
  }
 },
 "nbformat": 4,
 "nbformat_minor": 2
}
